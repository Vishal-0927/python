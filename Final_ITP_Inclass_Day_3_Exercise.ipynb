{
 "cells": [
  {
   "cell_type": "markdown",
   "metadata": {
    "id": "eXWCZeS1QB7O"
   },
   "source": [
    "<table align=\"center\" width=100%>\n",
    "    <tr>\n",
    "        <td width=\"20%\">\n",
    "            <img src=\"in_class.png\">\n",
    "        </td>\n",
    "        <td>\n",
    "            <div align=\"center\">\n",
    "                <font color=\"#21618C\" size=8px>\n",
    "                    <b> Inclass-Lab<br>(Day 3)\n",
    "                    </b>\n",
    "                </font>\n",
    "            </div>\n",
    "        </td>\n",
    "        <td width=\"25%\">\n",
    "            <img src=\"NEW_GL_Logo.png\">\n",
    "        </td>\n",
    "    </tr>\n",
    "</table>"
   ]
  },
  {
   "cell_type": "markdown",
   "metadata": {
    "id": "5bmg2LEpQB7R"
   },
   "source": [
    "## Table of Content\n",
    "\n",
    "1. **[Set](#set)**\n",
    "2. **[Conditional Statements](#cond)**\n",
    "3. **[Python Flow Control](#flow_control)**\n",
    "\n",
    "\n"
   ]
  },
  {
   "cell_type": "markdown",
   "metadata": {
    "id": "Rv5-hzWOQB7R"
   },
   "source": [
    "### Let's begin with some hands-on practice exercises"
   ]
  },
  {
   "cell_type": "markdown",
   "metadata": {},
   "source": [
    "<a id=\"set\"> </a>\n",
    "## 1. Set"
   ]
  },
  {
   "cell_type": "markdown",
   "metadata": {},
   "source": [
    "<table align=\"left\">\n",
    "    <tr>\n",
    "        <td width=\"6%\">\n",
    "            <img src=\"question_icon.png\">\n",
    "        </td>\n",
    "        <td>\n",
    "            <div align=\"left\", style=\"font-size:120%\">\n",
    "                <font color=\"#21618C\">\n",
    "                    <b>1. Write the program to perform following manipulations:<br><br>\n",
    "                        a. Add '7' to the given set<br>\n",
    "                        b. Remove '3' from a given set<br>\n",
    "                        c. Clear the set\n",
    "                    </b>\n",
    "                </font>\n",
    "            </div>\n",
    "        </td>\n",
    "    </tr>\n",
    "</table>"
   ]
  },
  {
   "cell_type": "markdown",
   "metadata": {},
   "source": [
    "**Use the below set for manipulation**\n",
    "\n",
    "num_set = {1, 2, 3, 4, 5, 6}"
   ]
  },
  {
   "cell_type": "code",
   "execution_count": 5,
   "metadata": {},
   "outputs": [
    {
     "name": "stdout",
     "output_type": "stream",
     "text": [
      "{1, 2, 3, 4, 5, 6, 7}\n",
      "{1, 2, 4, 5, 6, 7}\n",
      "set()\n"
     ]
    }
   ],
   "source": [
    "num_set = {1, 2, 3, 4, 5, 6}\n",
    "num_set.add(7)\n",
    "print(num_set)\n",
    "num_set.remove(3)\n",
    "print(num_set)\n",
    "num_set.clear()\n",
    "print(num_set)"
   ]
  },
  {
   "cell_type": "markdown",
   "metadata": {},
   "source": [
    "<table align=\"left\">\n",
    "    <tr>\n",
    "        <td width=\"6%\">\n",
    "            <img src=\"question_icon.png\">\n",
    "        </td>\n",
    "        <td>\n",
    "            <div align=\"left\", style=\"font-size:120%\">\n",
    "                <font color=\"#21618C\">\n",
    "                    <b>2. Create two sets of words from the given sentences and perform the following operations:<br><br>\n",
    "                        a. Find the count of unique words in each of the sentence<br> \n",
    "                        b. Find the common words in both the sentences<br>\n",
    "                        c. Find the unique words in both the sentences\n",
    "                       </b>\n",
    "                </font>\n",
    "            </div>\n",
    "        </td>\n",
    "    </tr>\n",
    "</table>"
   ]
  },
  {
   "cell_type": "markdown",
   "metadata": {},
   "source": [
    "**Use the sentences given below:**\n",
    "    \n",
    "sentence_1 = 'We shall analyse the data using python' \n",
    "\n",
    "sentence_2 = 'Python for data science'"
   ]
  },
  {
   "cell_type": "code",
   "execution_count": 12,
   "metadata": {},
   "outputs": [
    {
     "name": "stdout",
     "output_type": "stream",
     "text": [
      "9\n",
      "{'y', 'i', 'e', 'o', 's', 'n', 'd', 'h', ' ', 't', 'a'}\n",
      "{'p', 'f', 'W', 'u', 'l', 'c', 'g', 'r', 'P'}\n"
     ]
    }
   ],
   "source": [
    "sentence_1 = set('We shall analyse the data using python')\n",
    "\n",
    "sentence_2 = set('Python for data science')\n",
    "a = len(sentence_1.symmetric_difference(sentence_2))\n",
    "print(a)\n",
    "print(sentence_1.intersection(sentence_2))\n",
    "print(sentence_1.symmetric_difference(sentence_2))"
   ]
  },
  {
   "cell_type": "markdown",
   "metadata": {},
   "source": [
    "<table align=\"left\">\n",
    "    <tr>\n",
    "        <td width=\"6%\">\n",
    "            <img src=\"question_icon.png\">\n",
    "        </td>\n",
    "        <td>\n",
    "            <div align=\"left\", style=\"font-size:120%\">\n",
    "                <font color=\"#21618C\">\n",
    "                    <b>3. Write a program to perform following set operations:<br><br>\n",
    "                        a. Union<br> \n",
    "                        b. Intersection<br>\n",
    "                        c. Set of all the elements of set A that are not in set B<br>\n",
    "                        d. Set of all the elements of set B that are not in set A<br>\n",
    "                        e. Symmetric difference\n",
    "                    </b>\n",
    "                </font>\n",
    "            </div>\n",
    "        </td>\n",
    "    </tr>\n",
    "</table>"
   ]
  },
  {
   "cell_type": "markdown",
   "metadata": {},
   "source": [
    "**Use the below set:**\n",
    "\n",
    "A = {1, 4, 5, 2, 6, 3, 40, 7, 87, 4, 71}\n",
    "\n",
    "B = {3, 42, 51, 6, 7, 8, 54, 5}"
   ]
  },
  {
   "cell_type": "code",
   "execution_count": 16,
   "metadata": {},
   "outputs": [
    {
     "name": "stdout",
     "output_type": "stream",
     "text": [
      "{1, 2, 3, 4, 5, 6, 7, 40, 71, 8, 42, 51, 54, 87}\n",
      "{3, 5, 6, 7}\n",
      "{1, 2, 4, 71, 40, 87}\n",
      "{8, 42, 51, 54}\n",
      "{1, 2, 4, 71, 8, 40, 42, 51, 54, 87}\n"
     ]
    }
   ],
   "source": [
    "A = {1, 4, 5, 2, 6, 3, 40, 7, 87, 4, 71}\n",
    "\n",
    "B = {3, 42, 51, 6, 7, 8, 54, 5}\n",
    "\n",
    "print(A.union(B))\n",
    "print(A.intersection(B))\n",
    "print(A-B)\n",
    "print(B-A)\n",
    "print(A.symmetric_difference(B))"
   ]
  },
  {
   "cell_type": "markdown",
   "metadata": {
    "id": "5dkQCFEqQB7R"
   },
   "source": [
    "<a id=\"cond\"> </a>\n",
    "## 2. Conditional Statements"
   ]
  },
  {
   "cell_type": "markdown",
   "metadata": {
    "id": "TuC6JzLsQB7S"
   },
   "source": [
    "<table align=\"left\">\n",
    "    <tr>\n",
    "        <td width=\"6%\">\n",
    "            <img src=\"question_icon.png\">\n",
    "        </td>\n",
    "        <td>\n",
    "            <div align=\"left\", style=\"font-size:120%\">\n",
    "                <font color=\"#21618C\">\n",
    "                    <b>4. Write a program to check whether a given number is multiple of 7 (use if statement)</b>\n",
    "                </font>\n",
    "            </div>\n",
    "        </td>\n",
    "    </tr>\n",
    "</table>"
   ]
  },
  {
   "cell_type": "code",
   "execution_count": 20,
   "metadata": {},
   "outputs": [
    {
     "name": "stdout",
     "output_type": "stream",
     "text": [
      "Enter number - 49\n",
      "Given number is multiple of 7\n"
     ]
    }
   ],
   "source": [
    "n = int(input('Enter number - '))\n",
    "if n%7 ==0:\n",
    "    print('Given number is multiple of 7')\n",
    "else:\n",
    "    print('Given number is not multiple of 7')"
   ]
  },
  {
   "cell_type": "markdown",
   "metadata": {
    "id": "XCQtcopIQB7T"
   },
   "source": [
    "<table align=\"left\">\n",
    "    <tr>\n",
    "        <td width=\"6%\">\n",
    "            <img src=\"question_icon.png\">\n",
    "        </td>\n",
    "        <td>\n",
    "            <div align=\"left\", style=\"font-size:120%\">\n",
    "                <font color=\"#21618C\">\n",
    "                    <b>5. Write a code to print the maximum of two numbers (use if-else)</b>\n",
    "                </font>\n",
    "            </div>\n",
    "        </td>\n",
    "    </tr>\n",
    "</table>"
   ]
  },
  {
   "cell_type": "code",
   "execution_count": 22,
   "metadata": {},
   "outputs": [
    {
     "name": "stdout",
     "output_type": "stream",
     "text": [
      "Enter number1 - 10\n",
      "Enter number2 - 20\n",
      "Number 2 is greater\n"
     ]
    }
   ],
   "source": [
    "a = int(input('Enter number1 - '))\n",
    "b = int(input('Enter number2 - '))\n",
    "if a>b:\n",
    "    print('Number 1 is greater')\n",
    "else:\n",
    "    print(\"Number 2 is greater\")"
   ]
  },
  {
   "cell_type": "markdown",
   "metadata": {
    "id": "HtMw173QQB7T"
   },
   "source": [
    "<table align=\"left\">\n",
    "    <tr>\n",
    "        <td width=\"6%\">\n",
    "            <img src=\"question_icon.png\">\n",
    "        </td>\n",
    "        <td>\n",
    "            <div align=\"left\", style=\"font-size:120%\">\n",
    "                <font color=\"#21618C\">\n",
    "                    <b>6. Write a program to check whether a number is positive, negative or zero (use if-elif) </b>\n",
    "                </font>\n",
    "            </div>\n",
    "        </td>\n",
    "    </tr>\n",
    "</table>"
   ]
  },
  {
   "cell_type": "code",
   "execution_count": 36,
   "metadata": {},
   "outputs": [
    {
     "name": "stdout",
     "output_type": "stream",
     "text": [
      "Enter Number - -1\n",
      "Given number is negative\n"
     ]
    }
   ],
   "source": [
    "num=int(input('Enter Number - '))\n",
    "if num>0:\n",
    "    print('Given number is positive')\n",
    "elif num<0:\n",
    "    print('Given number is negative')\n",
    "else:\n",
    "    print('a is equal to',num)"
   ]
  },
  {
   "cell_type": "markdown",
   "metadata": {
    "id": "vys6i9wOQB7U"
   },
   "source": [
    "<a id= \"flow_control\"> </a>\n",
    "## 2. Python Flow Control"
   ]
  },
  {
   "cell_type": "markdown",
   "metadata": {
    "id": "pUR_a5a1QB7U"
   },
   "source": [
    "<table align=\"left\">\n",
    "    <tr>\n",
    "        <td width=\"6%\">\n",
    "            <img src=\"question_icon.png\">\n",
    "        </td>\n",
    "        <td>\n",
    "            <div align=\"left\", style=\"font-size:120%\">\n",
    "                <font color=\"#21618C\">\n",
    "                    <b>7. Write a program for generating a fibonacci series starting with 0 and 1 for the next 10 values using a while loop. </b>\n",
    "                </font>\n",
    "            </div>\n",
    "        </td>\n",
    "    </tr>\n",
    "</table>"
   ]
  },
  {
   "cell_type": "code",
   "execution_count": 44,
   "metadata": {},
   "outputs": [
    {
     "name": "stdout",
     "output_type": "stream",
     "text": [
      "How many terms? 10\n",
      "Fibonacci sequence:\n",
      "0\n",
      "1\n",
      "1\n",
      "2\n",
      "3\n",
      "5\n",
      "8\n",
      "13\n",
      "21\n",
      "34\n"
     ]
    }
   ],
   "source": [
    "n = int(input(\"How many terms? \"))\n",
    "n1, n2 = 0, 1\n",
    "count = 0\n",
    "print(\"Fibonacci sequence:\")\n",
    "while count < n:\n",
    "    print(n1)\n",
    "    n3 = n1 + n2\n",
    "    n1 = n2\n",
    "    n2 = n3\n",
    "    count = count + 1"
   ]
  },
  {
   "cell_type": "markdown",
   "metadata": {
    "id": "2sFW5SK2QB7V"
   },
   "source": [
    "<table align=\"left\">\n",
    "    <tr>\n",
    "        <td width=\"6%\">\n",
    "            <img src=\"question_icon.png\">\n",
    "        </td>\n",
    "        <td>\n",
    "            <div align=\"left\", style=\"font-size:120%\">\n",
    "                <font color=\"#21618C\">\n",
    "                    <b>8. Write a code to find factorial of a number (take the input from user). </b>\n",
    "                </font>\n",
    "            </div>\n",
    "        </td>\n",
    "    </tr>\n",
    "</table>"
   ]
  },
  {
   "cell_type": "code",
   "execution_count": 49,
   "metadata": {},
   "outputs": [
    {
     "name": "stdout",
     "output_type": "stream",
     "text": [
      "Enter number - 6\n",
      "The factorial of 6 is 720\n"
     ]
    }
   ],
   "source": [
    "num = int(input('Enter number - '))\n",
    "fat = 1\n",
    "for i in range(1,num + 1):\n",
    "       fat = fat*i\n",
    "print(\"The factorial of\",num,\"is\",fat)"
   ]
  },
  {
   "cell_type": "markdown",
   "metadata": {
    "id": "wzqJtHqPQB7W"
   },
   "source": [
    "<table align=\"left\">\n",
    "    <tr>\n",
    "        <td width=\"6%\">\n",
    "            <img src=\"question_icon.png\">\n",
    "        </td>\n",
    "        <td>\n",
    "            <div align=\"left\", style=\"font-size:120%\">\n",
    "                <font color=\"#21618C\">\n",
    "                    <b>9. Write a program to check whether two numbers are amicable or not (take the input from user).</b>\n",
    "                </font>\n",
    "            </div>\n",
    "        </td>\n",
    "    </tr>\n",
    "</table>"
   ]
  },
  {
   "cell_type": "code",
   "execution_count": 24,
   "metadata": {},
   "outputs": [
    {
     "name": "stdout",
     "output_type": "stream",
     "text": [
      "[1, 2, 4, 5, 10, 11, 20, 22, 44, 55, 110]\n",
      "[1, 2, 4, 71, 142]\n",
      "The given number is ambicable\n"
     ]
    }
   ],
   "source": [
    "n1 = 220\n",
    "n2 = 284\n",
    "\n",
    "n3 = [i for i in range(1,n1) if n1%i == 0]\n",
    "n4 = [i for i in range(1,n2) if n2%i == 0]\n",
    "print(n3)\n",
    "print(n4)\n",
    "if sum(n3)==n2 and sum(n4)==n1:\n",
    "    print('The given number is ambicable')\n",
    "else:\n",
    "    print('The given number is not ambicable')"
   ]
  },
  {
   "cell_type": "markdown",
   "metadata": {
    "id": "rDXJ8s4rQB7W"
   },
   "source": [
    "<table align=\"left\">\n",
    "    <tr>\n",
    "        <td width=\"6%\">\n",
    "            <img src=\"question_icon.png\">\n",
    "        </td>\n",
    "        <td>\n",
    "            <div align=\"left\", style=\"font-size:120%\">\n",
    "                <font color=\"#21618C\">\n",
    "                    <b>10. Reverse string using a for loop (take the input from user).</b>\n",
    "                </font>\n",
    "            </div>\n",
    "        </td>\n",
    "    </tr>\n",
    "</table>"
   ]
  },
  {
   "cell_type": "code",
   "execution_count": 11,
   "metadata": {},
   "outputs": [
    {
     "name": "stdout",
     "output_type": "stream",
     "text": [
      "Enter string - vishal\n",
      "<class 'str'>\n",
      "l a h s i v "
     ]
    }
   ],
   "source": [
    "ntr = input('Enter string - ')\n",
    "for i in range(-1,-(len(ntr)+1),-1):\n",
    "    print(ntr[i],end=' ')"
   ]
  },
  {
   "cell_type": "markdown",
   "metadata": {
    "id": "TlmyuLWAQB7X"
   },
   "source": [
    "<table align=\"left\">\n",
    "    <tr>\n",
    "        <td width=\"6%\">\n",
    "            <img src=\"question_icon.png\">\n",
    "        </td>\n",
    "        <td>\n",
    "            <div align=\"left\", style=\"font-size:120%\">\n",
    "                <font color=\"#21618C\">\n",
    "                    <b>11. Write a code to find the average of given numbers (take the input from user).</b>\n",
    "                </font>\n",
    "            </div>\n",
    "        </td>\n",
    "    </tr>\n",
    "</table>"
   ]
  },
  {
   "cell_type": "code",
   "execution_count": 25,
   "metadata": {},
   "outputs": [
    {
     "name": "stdout",
     "output_type": "stream",
     "text": [
      "Enter the number of elements to be inserted: 5\n",
      "Enter element: 6\n",
      "Enter element: 5\n",
      "Enter element: 7\n",
      "Enter element: 8\n",
      "Enter element: 9\n",
      "Average of elements in the list 7.0\n"
     ]
    }
   ],
   "source": [
    "n=int(input(\"Enter the number of elements to be inserted: \"))\n",
    "a=[]\n",
    "for i in range(0,n):\n",
    "    e=int(input(\"Enter element: \"))\n",
    "    a.append(e)\n",
    "avg=sum(a)/n\n",
    "print(\"Average of elements in the list\",round(avg,2))"
   ]
  }
 ],
 "metadata": {
  "colab": {
   "name": "ITP-Day 3_IC Solution.ipynb",
   "provenance": []
  },
  "kernelspec": {
   "display_name": "Python 3 (ipykernel)",
   "language": "python",
   "name": "python3"
  },
  "language_info": {
   "codemirror_mode": {
    "name": "ipython",
    "version": 3
   },
   "file_extension": ".py",
   "mimetype": "text/x-python",
   "name": "python",
   "nbconvert_exporter": "python",
   "pygments_lexer": "ipython3",
   "version": "3.10.9"
  }
 },
 "nbformat": 4,
 "nbformat_minor": 1
}
